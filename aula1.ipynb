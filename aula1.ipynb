{
  "nbformat": 4,
  "nbformat_minor": 0,
  "metadata": {
    "colab": {
      "name": "aula1.ipynb",
      "provenance": [],
      "collapsed_sections": []
    },
    "kernelspec": {
      "name": "python3",
      "display_name": "Python 3"
    },
    "language_info": {
      "name": "python"
    }
  },
  "cells": [
    {
      "cell_type": "code",
      "execution_count": null,
      "metadata": {
        "colab": {
          "base_uri": "https://localhost:8080/"
        },
        "id": "CxpruHeFiepW",
        "outputId": "1d3b1383-f8fd-4463-9e17-1a7fc76be4e7"
      },
      "outputs": [
        {
          "output_type": "stream",
          "name": "stdout",
          "text": [
            "Hello, World!\n"
          ]
        }
      ],
      "source": [
        "print(\"Hello, World!\")"
      ]
    },
    {
      "cell_type": "code",
      "source": [
        "print('Aprendendo Python!')"
      ],
      "metadata": {
        "colab": {
          "base_uri": "https://localhost:8080/"
        },
        "id": "HIZOYY3mjpAX",
        "outputId": "d23ea9d3-7939-497b-dcc1-af59842c4077"
      },
      "execution_count": null,
      "outputs": [
        {
          "output_type": "stream",
          "name": "stdout",
          "text": [
            "Aprendendo Python!\n"
          ]
        }
      ]
    },
    {
      "cell_type": "code",
      "source": [
        "# String, Int, Float, Boolean\n",
        "nota1 = 10\n",
        "_nota1 = 10.5\n",
        "A = 1\n",
        "a = 1\n",
        "ação =  '10'\n",
        "Jogar = True\n",
        "dançar = False\n",
        "print(dançar)"
      ],
      "metadata": {
        "colab": {
          "base_uri": "https://localhost:8080/"
        },
        "id": "ZF2KoqcgjxQM",
        "outputId": "e95a4031-2bcd-4992-9bec-372c3a1e74a1"
      },
      "execution_count": null,
      "outputs": [
        {
          "output_type": "stream",
          "name": "stdout",
          "text": [
            "False\n"
          ]
        }
      ]
    },
    {
      "cell_type": "code",
      "source": [
        "a = 1\n",
        "b = 2.5\n",
        "equa = (a + b) * 3 / (a + 2) \n",
        "print(equa)"
      ],
      "metadata": {
        "colab": {
          "base_uri": "https://localhost:8080/"
        },
        "id": "d1iZFXa9kzJd",
        "outputId": "f5f8d8c6-33ec-4737-d747-16f886011db7"
      },
      "execution_count": null,
      "outputs": [
        {
          "output_type": "stream",
          "name": "stdout",
          "text": [
            "3.5\n"
          ]
        }
      ]
    },
    {
      "cell_type": "code",
      "source": [
        "type(equa)"
      ],
      "metadata": {
        "colab": {
          "base_uri": "https://localhost:8080/"
        },
        "id": "hKdBNrI0kgNS",
        "outputId": "74dfe025-41bc-490e-ad71-511fdf97f8b2"
      },
      "execution_count": null,
      "outputs": [
        {
          "output_type": "execute_result",
          "data": {
            "text/plain": [
              "float"
            ]
          },
          "metadata": {},
          "execution_count": 8
        }
      ]
    },
    {
      "cell_type": "code",
      "source": [
        "type(a)"
      ],
      "metadata": {
        "colab": {
          "base_uri": "https://localhost:8080/"
        },
        "id": "GHLWzDOrlo8U",
        "outputId": "9bdf4506-81a9-4434-ed38-dee9e3498edf"
      },
      "execution_count": null,
      "outputs": [
        {
          "output_type": "execute_result",
          "data": {
            "text/plain": [
              "int"
            ]
          },
          "metadata": {},
          "execution_count": 9
        }
      ]
    },
    {
      "cell_type": "code",
      "source": [
        "type(dançar)"
      ],
      "metadata": {
        "colab": {
          "base_uri": "https://localhost:8080/"
        },
        "id": "XGstAHAQlqUU",
        "outputId": "cd5515d1-2a37-480e-c423-c44281e21b98"
      },
      "execution_count": null,
      "outputs": [
        {
          "output_type": "execute_result",
          "data": {
            "text/plain": [
              "bool"
            ]
          },
          "metadata": {},
          "execution_count": 10
        }
      ]
    },
    {
      "cell_type": "code",
      "source": [
        "type(ação)"
      ],
      "metadata": {
        "colab": {
          "base_uri": "https://localhost:8080/"
        },
        "id": "_dAycWLGl1Hi",
        "outputId": "8fe77d52-5e38-4bce-e47f-069a528d428d"
      },
      "execution_count": null,
      "outputs": [
        {
          "output_type": "execute_result",
          "data": {
            "text/plain": [
              "str"
            ]
          },
          "metadata": {},
          "execution_count": 11
        }
      ]
    },
    {
      "cell_type": "code",
      "source": [
        "txt = input('Digite um numero -> ')\n",
        "type(txt)"
      ],
      "metadata": {
        "id": "9G0L3DlNl3bz"
      },
      "execution_count": null,
      "outputs": []
    },
    {
      "cell_type": "code",
      "source": [
        "# Converter valores\n",
        "x = int(txt)\n",
        "print(type(x))\n",
        "x = float(txt)\n",
        "print(type(x))\n",
        "x = str(txt)\n",
        "print(type(txt))"
      ],
      "metadata": {
        "id": "wRiZTz-xm-uk"
      },
      "execution_count": null,
      "outputs": []
    },
    {
      "cell_type": "code",
      "source": [
        "#Comentario\n",
        "\n",
        "''' \n",
        "COMENTAR \n",
        "EM \n",
        "LINHAS\n",
        "'''\n"
      ],
      "metadata": {
        "id": "dbOhHjU9m_39"
      },
      "execution_count": null,
      "outputs": []
    },
    {
      "cell_type": "markdown",
      "source": [
        "# Matemática Simples"
      ],
      "metadata": {
        "id": "PGOJ2Xb3n2y2"
      }
    },
    {
      "cell_type": "code",
      "source": [
        "# Exibir a area do quadrado com lado de 5cm\n",
        "'''\n",
        "q = l x l // l²\n",
        "'''\n",
        "l = 12 #Criando uma variavel\n",
        "quadrado = l ** 2 # quadrado = l * l\n",
        "perimetroquadra = l * 4 # perimetroquadrado = l + l + l + l\n",
        "print(quadrado)\n",
        "print(perimetroquadra)"
      ],
      "metadata": {
        "id": "DqarlH1RmDaS",
        "colab": {
          "base_uri": "https://localhost:8080/"
        },
        "outputId": "7fad3ad0-df47-4b65-ac16-073fb046a8f7"
      },
      "execution_count": 24,
      "outputs": [
        {
          "output_type": "stream",
          "name": "stdout",
          "text": [
            "144\n",
            "48\n"
          ]
        }
      ]
    },
    {
      "cell_type": "code",
      "source": [
        "# O lado de um quadrado mete 8cm. Caso o comprimento desse valor seja aumentado em 50% do seu valor,\n",
        "# em quantos por centos aumenta a área do novo quadrado em relaçao a area do quadrado inicial?\n",
        "''' Formula\n",
        "    a = l²\n",
        "'''\n",
        "l = 8\n",
        "area = l ** 2\n",
        "print('Primeira Area: ', area)\n",
        "\n",
        "##\n",
        "x = 8\n",
        "l = x * 1.5\n",
        "areaNova = l ** 2\n",
        "print('Segunda área: ', areaNova)\n",
        "\n",
        "## Diferença de tamanho entre primeiro e o segundo\n",
        "diferença = (areaNova / area - 1) * 100\n",
        "print('Diferença é de ', diferença, \" %\")"
      ],
      "metadata": {
        "colab": {
          "base_uri": "https://localhost:8080/"
        },
        "id": "QIP-alVxpyxl",
        "outputId": "46c8d7e3-74bb-4889-9636-bf1255c095cf"
      },
      "execution_count": 36,
      "outputs": [
        {
          "output_type": "stream",
          "name": "stdout",
          "text": [
            "Primeira Area:  64\n",
            "Segunda área:  144.0\n",
            "Diferença é de  125.0  %\n"
          ]
        }
      ]
    },
    {
      "cell_type": "code",
      "source": [
        "#Qual é a medida da diagonal de um quadrado cujo lado mede 8 cm?\n",
        "''' Fórmula\n",
        "d² = l² + l²\n",
        "d² = 2l² = 128\n",
        "d= V(2l²) = V128\n",
        " d = lV2 = ?\n",
        "'''\n",
        "l = 8\n",
        "diagonal = (2 * (l ** 2)) ** (1/2)\n",
        "print(diagonal)\n",
        "\n",
        "# ²V128 -> (1/2) 2/1 -> 1/2\n"
      ],
      "metadata": {
        "colab": {
          "base_uri": "https://localhost:8080/"
        },
        "id": "gixTgLEesmE3",
        "outputId": "2ff82b49-8349-49d0-cc3d-ee94547a942c"
      },
      "execution_count": 49,
      "outputs": [
        {
          "output_type": "stream",
          "name": "stdout",
          "text": [
            "11.313708498984761\n"
          ]
        }
      ]
    },
    {
      "cell_type": "code",
      "source": [
        "#Qual diametro de um circulo cujo raio mede 10cm?\n",
        "'''Fórmula\n",
        "   d = 2r\n",
        "'''\n",
        "r = 10\n",
        "diametroCirculo = 2 * r\n",
        "print(diametroCirculo)"
      ],
      "metadata": {
        "colab": {
          "base_uri": "https://localhost:8080/"
        },
        "id": "r7jXc8Ljw1Ua",
        "outputId": "80240411-6233-4b43-ea61-ff16a316d648"
      },
      "execution_count": 51,
      "outputs": [
        {
          "output_type": "stream",
          "name": "stdout",
          "text": [
            "20\n"
          ]
        }
      ]
    },
    {
      "cell_type": "code",
      "source": [
        "#Qual é o perimetro de um circulo cujo raio mede 5 cm?\n",
        "'''formula\n",
        "P = 2pi . r\n",
        "pi = 3.14\n",
        "'''\n",
        "r = 5\n",
        "pi = 3.14\n",
        "perimetroCirculo = 2 * pi * r\n",
        "print(perimetroCirculo) "
      ],
      "metadata": {
        "colab": {
          "base_uri": "https://localhost:8080/"
        },
        "id": "0ZinkOnjxNh8",
        "outputId": "efbfd3e6-8faa-4226-fa44-4f824d7bcddd"
      },
      "execution_count": 52,
      "outputs": [
        {
          "output_type": "stream",
          "name": "stdout",
          "text": [
            "31.400000000000002\n"
          ]
        }
      ]
    },
    {
      "cell_type": "code",
      "source": [
        "# Ache o comprimento da hipotenusa de lados 3 cm e 4 cm\n",
        "'''formula\n",
        "    a2 + b2 = c2\n",
        "'''\n",
        "a =3\n",
        "b = 4\n",
        "c = a ** 2 + b ** 2\n",
        "hipotenusa = c ** 0.5\n",
        "print(hipotenusa)"
      ],
      "metadata": {
        "colab": {
          "base_uri": "https://localhost:8080/"
        },
        "id": "mMvmxHJjxkxU",
        "outputId": "f6a0d5ca-c3f9-436b-d75c-253b730200f2"
      },
      "execution_count": 54,
      "outputs": [
        {
          "output_type": "stream",
          "name": "stdout",
          "text": [
            "5.0\n"
          ]
        }
      ]
    },
    {
      "cell_type": "markdown",
      "source": [
        "#Estrutura de Decisão"
      ],
      "metadata": {
        "id": "jFJBk3h4yTOk"
      }
    },
    {
      "cell_type": "code",
      "source": [
        "#Exibir se o numero é maior ou menor que 10\n",
        "x = 10\n",
        "if(x > 10): # 50 é maior 10?\n",
        "  print('É maior que 10')\n",
        "else:\n",
        "  print('É menor que 10')"
      ],
      "metadata": {
        "colab": {
          "base_uri": "https://localhost:8080/"
        },
        "id": "BJzEQJw4yAup",
        "outputId": "47349178-269e-44f8-817e-b6f1f8c92405"
      },
      "execution_count": 64,
      "outputs": [
        {
          "output_type": "stream",
          "name": "stdout",
          "text": [
            "É menor que 10\n"
          ]
        }
      ]
    },
    {
      "cell_type": "code",
      "source": [
        "#Exibir o maior numero.\n",
        "x = 50\n",
        "y = 25\n",
        "\n",
        "if(x > y):\n",
        "  #faça\n",
        "  print(x, ' é maior')\n",
        "else: #Senão\n",
        "  #faça\n",
        "  print(y, 'é maior')"
      ],
      "metadata": {
        "colab": {
          "base_uri": "https://localhost:8080/"
        },
        "id": "_tUNIL5C0AiU",
        "outputId": "3a82ae1e-70cb-4359-f2e3-57e5354c6f31"
      },
      "execution_count": 65,
      "outputs": [
        {
          "output_type": "stream",
          "name": "stdout",
          "text": [
            "50  é maior\n"
          ]
        }
      ]
    },
    {
      "cell_type": "code",
      "source": [
        "#Exibir o maior numero entre os 3\n",
        "a = -10\n",
        "b = -40\n",
        "c = -2\n",
        "# a > b && a > c\n",
        "if(a > b and a > c):\n",
        "  #faça\n",
        "  print(a)\n",
        "elif(b > a and b > c):\n",
        "  #faça\n",
        "  print(b)\n",
        "else:\n",
        "  print(c)"
      ],
      "metadata": {
        "colab": {
          "base_uri": "https://localhost:8080/"
        },
        "id": "e40fZ-Na1Hnl",
        "outputId": "20efefa3-1e7e-410d-93e6-60f23d396253"
      },
      "execution_count": 68,
      "outputs": [
        {
          "output_type": "stream",
          "name": "stdout",
          "text": [
            "-2\n"
          ]
        }
      ]
    },
    {
      "cell_type": "code",
      "source": [
        "#Condiçoes de existencia de um triagulo\n",
        "'''\n",
        "\n",
        "    a + b > c\n",
        "    b + c > a\n",
        "    a + c > b\n",
        "'''\n",
        "a = 3\n",
        "b = 8 \n",
        "c = 7\n",
        "\n",
        "if(a + b > c and b + c > a and a + c > b):\n",
        "  #Faça\n",
        "  print('Éum triangulo')\n",
        "\n",
        "else:\n",
        "  print('Não é um triangulo')"
      ],
      "metadata": {
        "colab": {
          "base_uri": "https://localhost:8080/"
        },
        "id": "oVa9pv0c3TbY",
        "outputId": "089a0bcd-b3a0-45ff-8ad6-d536ea35191a"
      },
      "execution_count": 71,
      "outputs": [
        {
          "output_type": "stream",
          "name": "stdout",
          "text": [
            "Éum triangulo\n"
          ]
        }
      ]
    },
    {
      "cell_type": "code",
      "source": [
        "# Ler 3 notas e verificar o aluno esta aprovado (>= 7), em recuperação (> 4 e < 7) ou reprovado (<= 4)\n",
        "nota1 = 3\n",
        "nota2 = 5\n",
        "nota3 = 3\n",
        "\n",
        "media = (nota1 + nota2 + nota3) / 3\n",
        "print(media)\n",
        "\n",
        "if(media >= 7):\n",
        "  #faça\n",
        "  print('Aprovado. Média: ', media)\n",
        "elif(media > 4 and media < 7):\n",
        "  #faça\n",
        "  print('Recuperação. Média: ', media)\n",
        "else:\n",
        "  print('Reprovado. Média: ', media)"
      ],
      "metadata": {
        "colab": {
          "base_uri": "https://localhost:8080/"
        },
        "id": "GZU2RasX4HWG",
        "outputId": "91b138be-5446-441c-832d-13c6aed1c80b"
      },
      "execution_count": 74,
      "outputs": [
        {
          "output_type": "stream",
          "name": "stdout",
          "text": [
            "3.6666666666666665\n",
            "Reprovado. Média:  3.6666666666666665\n"
          ]
        }
      ]
    },
    {
      "cell_type": "code",
      "source": [
        "#Leia os lados de um triangulo e diga o nome do triangulo\n",
        "'''\n",
        "Triangulo equilatero == 3 lados iguais\n",
        "triangulo isósceles == 2 lados iguais\n",
        "triangulo escaleno != 3 lados diferentes\n",
        "'''\n",
        "lado1\n",
        "lado2\n",
        "lado3"
      ],
      "metadata": {
        "id": "eP8VZSsa9IOX"
      },
      "execution_count": null,
      "outputs": []
    }
  ]
}